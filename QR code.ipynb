{
 "cells": [
  {
   "cell_type": "code",
   "execution_count": null,
   "id": "434e61c3",
   "metadata": {},
   "outputs": [],
   "source": [
    "pip install qrcode[pil]\n"
   ]
  },
  {
   "cell_type": "code",
   "execution_count": null,
   "id": "23180738",
   "metadata": {},
   "outputs": [],
   "source": [
    "import qrcode\n",
    "\n",
    "def generate_qr_code(url, output_file='qrcode.png'):\n",
    "    qr = qrcode.QRCode(\n",
    "        version=1,\n",
    "        error_correction=qrcode.constants.ERROR_CORRECT_L,\n",
    "        box_size=10,\n",
    "        border=4,\n",
    "    )\n",
    "    \n",
    "    qr.add_data(url)\n",
    "    qr.make(fit=True)\n",
    "    \n",
    "    img = qr.make_image(fill_color=\"black\", back_color=\"white\")\n",
    "    \n",
    "    img.save(output_file)\n",
    "\n",
    "if __name__ == \"__main__\":\n",
    "    url_to_encode = input(\"Enter the URL to encode: \")\n",
    "    \n",
    "    output_file_name = input(\"Enter the output file name (default is 'qrcode.png'): \") or 'qrcode.png'\n",
    "    \n",
    "    generate_qr_code(url_to_encode, output_file_name)\n",
    "    print(f\"QR Code generated and saved as {output_file_name}\")\n"
   ]
  },
  {
   "cell_type": "code",
   "execution_count": 3,
   "id": "4e57bbb3",
   "metadata": {},
   "outputs": [
    {
     "name": "stdout",
     "output_type": "stream",
     "text": [
      "Enter the URL: https://github.com/Kruthi2025\n",
      "QR Code generated successfully!\n"
     ]
    }
   ],
   "source": [
    "import qrcode\n",
    "\n",
    "def generate_qr_code(url):\n",
    "    qr = qrcode.QRCode(\n",
    "        version=1,\n",
    "        error_correction=qrcode.constants.ERROR_CORRECT_L,\n",
    "        box_size=10,\n",
    "        border=4,\n",
    "    )\n",
    "    qr.add_data(url)\n",
    "    qr.make(fit=True)\n",
    "\n",
    "    img = qr.make_image(fill_color=\"black\", back_color=\"white\")\n",
    "    img.save(\"qrcode.png\")\n",
    "    print(\"QR Code generated successfully!\")\n",
    "\n",
    "# Take input from the user\n",
    "url_to_generate = input(\"Enter the URL: \")\n",
    "generate_qr_code(url_to_generate)\n"
   ]
  },
  {
   "cell_type": "code",
   "execution_count": null,
   "id": "f6dc4a36",
   "metadata": {},
   "outputs": [],
   "source": []
  }
 ],
 "metadata": {
  "kernelspec": {
   "display_name": "Python 3 (ipykernel)",
   "language": "python",
   "name": "python3"
  },
  "language_info": {
   "codemirror_mode": {
    "name": "ipython",
    "version": 3
   },
   "file_extension": ".py",
   "mimetype": "text/x-python",
   "name": "python",
   "nbconvert_exporter": "python",
   "pygments_lexer": "ipython3",
   "version": "3.11.4"
  }
 },
 "nbformat": 4,
 "nbformat_minor": 5
}
